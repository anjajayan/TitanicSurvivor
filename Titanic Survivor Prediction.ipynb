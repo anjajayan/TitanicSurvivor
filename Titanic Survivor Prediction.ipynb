{
 "cells": [
  {
   "cell_type": "code",
   "execution_count": 1,
   "id": "ed0e41f6",
   "metadata": {
    "_cell_guid": "b1076dfc-b9ad-4769-8c92-a6c4dae69d19",
    "_uuid": "8f2839f25d086af736a60e9eeb907d3b93b6e0e5",
    "execution": {
     "iopub.execute_input": "2025-06-01T12:04:22.088973Z",
     "iopub.status.busy": "2025-06-01T12:04:22.088679Z",
     "iopub.status.idle": "2025-06-01T12:04:23.839443Z",
     "shell.execute_reply": "2025-06-01T12:04:23.838525Z"
    },
    "papermill": {
     "duration": 1.757503,
     "end_time": "2025-06-01T12:04:23.840929",
     "exception": false,
     "start_time": "2025-06-01T12:04:22.083426",
     "status": "completed"
    },
    "tags": []
   },
   "outputs": [
    {
     "name": "stdout",
     "output_type": "stream",
     "text": [
      "/kaggle/input/titanic/train.csv\n",
      "/kaggle/input/titanic/test.csv\n",
      "/kaggle/input/titanic/gender_submission.csv\n"
     ]
    }
   ],
   "source": [
    "# This Python 3 environment comes with many helpful analytics libraries installed\n",
    "# It is defined by the kaggle/python Docker image: https://github.com/kaggle/docker-python\n",
    "# For example, here's several helpful packages to load\n",
    "\n",
    "import numpy as np # linear algebra\n",
    "import pandas as pd # data processing, CSV file I/O (e.g. pd.read_csv)\n",
    "\n",
    "# Input data files are available in the read-only \"../input/\" directory\n",
    "# For example, running this (by clicking run or pressing Shift+Enter) will list all files under the input directory\n",
    "\n",
    "import os\n",
    "for dirname, _, filenames in os.walk('/kaggle/input'):\n",
    "    for filename in filenames:\n",
    "        print(os.path.join(dirname, filename))\n",
    "\n",
    "# You can write up to 20GB to the current directory (/kaggle/working/) that gets preserved as output when you create a version using \"Save & Run All\" \n",
    "# You can also write temporary files to /kaggle/temp/, but they won't be saved outside of the current session"
   ]
  },
  {
   "cell_type": "markdown",
   "id": "c8db2e0a",
   "metadata": {
    "papermill": {
     "duration": 0.003205,
     "end_time": "2025-06-01T12:04:23.847893",
     "exception": false,
     "start_time": "2025-06-01T12:04:23.844688",
     "status": "completed"
    },
    "tags": []
   },
   "source": [
    "# Load the input train.csv dataset"
   ]
  },
  {
   "cell_type": "code",
   "execution_count": 2,
   "id": "2691e1d2",
   "metadata": {
    "execution": {
     "iopub.execute_input": "2025-06-01T12:04:23.856264Z",
     "iopub.status.busy": "2025-06-01T12:04:23.855187Z",
     "iopub.status.idle": "2025-06-01T12:04:23.882928Z",
     "shell.execute_reply": "2025-06-01T12:04:23.882010Z"
    },
    "papermill": {
     "duration": 0.033385,
     "end_time": "2025-06-01T12:04:23.884601",
     "exception": false,
     "start_time": "2025-06-01T12:04:23.851216",
     "status": "completed"
    },
    "tags": []
   },
   "outputs": [],
   "source": [
    "train = pd.read_csv('/kaggle/input/titanic/train.csv')\n",
    "test = pd.read_csv('/kaggle/input/titanic/test.csv')"
   ]
  },
  {
   "cell_type": "markdown",
   "id": "5c776d3a",
   "metadata": {
    "papermill": {
     "duration": 0.002894,
     "end_time": "2025-06-01T12:04:23.890769",
     "exception": false,
     "start_time": "2025-06-01T12:04:23.887875",
     "status": "completed"
    },
    "tags": []
   },
   "source": [
    "# Analyse the data in train to figure out any possible patterns"
   ]
  },
  {
   "cell_type": "code",
   "execution_count": 3,
   "id": "4f3606d6",
   "metadata": {
    "execution": {
     "iopub.execute_input": "2025-06-01T12:04:23.898030Z",
     "iopub.status.busy": "2025-06-01T12:04:23.897729Z",
     "iopub.status.idle": "2025-06-01T12:04:25.646177Z",
     "shell.execute_reply": "2025-06-01T12:04:25.645205Z"
    },
    "papermill": {
     "duration": 1.753848,
     "end_time": "2025-06-01T12:04:25.647688",
     "exception": false,
     "start_time": "2025-06-01T12:04:23.893840",
     "status": "completed"
    },
    "tags": []
   },
   "outputs": [
    {
     "data": {
      "text/plain": [
       "Sex\n",
       "female    0.742038\n",
       "male      0.188908\n",
       "Name: Survived, dtype: float64"
      ]
     },
     "execution_count": 3,
     "metadata": {},
     "output_type": "execute_result"
    }
   ],
   "source": [
    "import matplotlib.pyplot as plt\n",
    "import seaborn as sns\n",
    "\n",
    "train.groupby('Sex')['Survived'].sum()/ train.groupby('Sex')['Survived'].count()"
   ]
  },
  {
   "cell_type": "code",
   "execution_count": 4,
   "id": "95e1ec09",
   "metadata": {
    "execution": {
     "iopub.execute_input": "2025-06-01T12:04:25.655404Z",
     "iopub.status.busy": "2025-06-01T12:04:25.654981Z",
     "iopub.status.idle": "2025-06-01T12:04:25.663664Z",
     "shell.execute_reply": "2025-06-01T12:04:25.662979Z"
    },
    "papermill": {
     "duration": 0.014099,
     "end_time": "2025-06-01T12:04:25.665149",
     "exception": false,
     "start_time": "2025-06-01T12:04:25.651050",
     "status": "completed"
    },
    "tags": []
   },
   "outputs": [
    {
     "data": {
      "text/plain": [
       "Pclass\n",
       "1    0.629630\n",
       "2    0.472826\n",
       "3    0.242363\n",
       "Name: Survived, dtype: float64"
      ]
     },
     "execution_count": 4,
     "metadata": {},
     "output_type": "execute_result"
    }
   ],
   "source": [
    "train.groupby('Pclass')['Survived'].sum()/ train.groupby('Pclass')['Survived'].count()\n",
    "# train.head()"
   ]
  },
  {
   "cell_type": "code",
   "execution_count": 5,
   "id": "653386d2",
   "metadata": {
    "execution": {
     "iopub.execute_input": "2025-06-01T12:04:25.673196Z",
     "iopub.status.busy": "2025-06-01T12:04:25.672907Z",
     "iopub.status.idle": "2025-06-01T12:04:25.681441Z",
     "shell.execute_reply": "2025-06-01T12:04:25.680770Z"
    },
    "papermill": {
     "duration": 0.014008,
     "end_time": "2025-06-01T12:04:25.682674",
     "exception": false,
     "start_time": "2025-06-01T12:04:25.668666",
     "status": "completed"
    },
    "tags": []
   },
   "outputs": [
    {
     "data": {
      "text/plain": [
       "SibSp\n",
       "0    0.345395\n",
       "1    0.535885\n",
       "2    0.464286\n",
       "3    0.250000\n",
       "4    0.166667\n",
       "5    0.000000\n",
       "8    0.000000\n",
       "Name: Survived, dtype: float64"
      ]
     },
     "execution_count": 5,
     "metadata": {},
     "output_type": "execute_result"
    }
   ],
   "source": [
    "train.groupby('SibSp')['Survived'].sum()/ train.groupby('SibSp')['Survived'].count()"
   ]
  },
  {
   "cell_type": "code",
   "execution_count": 6,
   "id": "c17611b9",
   "metadata": {
    "execution": {
     "iopub.execute_input": "2025-06-01T12:04:25.690470Z",
     "iopub.status.busy": "2025-06-01T12:04:25.690165Z",
     "iopub.status.idle": "2025-06-01T12:04:25.698479Z",
     "shell.execute_reply": "2025-06-01T12:04:25.697744Z"
    },
    "papermill": {
     "duration": 0.013645,
     "end_time": "2025-06-01T12:04:25.699797",
     "exception": false,
     "start_time": "2025-06-01T12:04:25.686152",
     "status": "completed"
    },
    "tags": []
   },
   "outputs": [
    {
     "data": {
      "text/plain": [
       "Parch\n",
       "0    0.343658\n",
       "1    0.550847\n",
       "2    0.500000\n",
       "3    0.600000\n",
       "4    0.000000\n",
       "5    0.200000\n",
       "6    0.000000\n",
       "Name: Survived, dtype: float64"
      ]
     },
     "execution_count": 6,
     "metadata": {},
     "output_type": "execute_result"
    }
   ],
   "source": [
    "train.groupby('Parch')['Survived'].sum()/ train.groupby('Parch')['Survived'].count()"
   ]
  },
  {
   "cell_type": "code",
   "execution_count": 7,
   "id": "c7679692",
   "metadata": {
    "execution": {
     "iopub.execute_input": "2025-06-01T12:04:25.708290Z",
     "iopub.status.busy": "2025-06-01T12:04:25.707988Z",
     "iopub.status.idle": "2025-06-01T12:04:26.013301Z",
     "shell.execute_reply": "2025-06-01T12:04:26.012460Z"
    },
    "papermill": {
     "duration": 0.311015,
     "end_time": "2025-06-01T12:04:26.014653",
     "exception": false,
     "start_time": "2025-06-01T12:04:25.703638",
     "status": "completed"
    },
    "tags": []
   },
   "outputs": [
    {
     "name": "stderr",
     "output_type": "stream",
     "text": [
      "/usr/local/lib/python3.11/dist-packages/numpy/lib/histograms.py:825: RuntimeWarning: invalid value encountered in greater_equal\n",
      "  keep = (tmp_a >= first_edge)\n",
      "/usr/local/lib/python3.11/dist-packages/numpy/lib/histograms.py:826: RuntimeWarning: invalid value encountered in less_equal\n",
      "  keep &= (tmp_a <= last_edge)\n"
     ]
    },
    {
     "data": {
      "text/plain": [
       "(array([ 54.,  46., 177., 169., 118.,  70.,  45.,  24.,   9.,   2.]),\n",
       " array([ 0.42 ,  8.378, 16.336, 24.294, 32.252, 40.21 , 48.168, 56.126,\n",
       "        64.084, 72.042, 80.   ]),\n",
       " <BarContainer object of 10 artists>)"
      ]
     },
     "execution_count": 7,
     "metadata": {},
     "output_type": "execute_result"
    },
    {
     "data": {
      "image/png": "[encoded data removed]",
      "text/plain": [
       "<Figure size 640x480 with 1 Axes>"
      ]
     },
     "metadata": {},
     "output_type": "display_data"
    }
   ],
   "source": [
    "\n",
    "plt.hist(train['Age'])"
   ]
  },
  {
   "cell_type": "code",
   "execution_count": 8,
   "id": "a9ad0ea7",
   "metadata": {
    "execution": {
     "iopub.execute_input": "2025-06-01T12:04:26.023882Z",
     "iopub.status.busy": "2025-06-01T12:04:26.023058Z",
     "iopub.status.idle": "2025-06-01T12:04:26.402055Z",
     "shell.execute_reply": "2025-06-01T12:04:26.401140Z"
    },
    "papermill": {
     "duration": 0.38544,
     "end_time": "2025-06-01T12:04:26.403985",
     "exception": false,
     "start_time": "2025-06-01T12:04:26.018545",
     "status": "completed"
    },
    "tags": []
   },
   "outputs": [
    {
     "data": {
      "text/plain": [
       "<Axes: xlabel='Age', ylabel='Fare'>"
      ]
     },
     "execution_count": 8,
     "metadata": {},
     "output_type": "execute_result"
    },
    {
     "data": {
      "image/png": "[encoded data removed]",
      "text/plain": [
       "<Figure size 640x480 with 1 Axes>"
      ]
     },
     "metadata": {},
     "output_type": "display_data"
    }
   ],
   "source": [
    "sns.scatterplot(data = train, x = 'Age', y = 'Fare', hue = 'Survived')"
   ]
  },
  {
   "cell_type": "code",
   "execution_count": 9,
   "id": "52dfa1ae",
   "metadata": {
    "execution": {
     "iopub.execute_input": "2025-06-01T12:04:26.414937Z",
     "iopub.status.busy": "2025-06-01T12:04:26.414680Z",
     "iopub.status.idle": "2025-06-01T12:04:26.663075Z",
     "shell.execute_reply": "2025-06-01T12:04:26.662052Z"
    },
    "papermill": {
     "duration": 0.255661,
     "end_time": "2025-06-01T12:04:26.664648",
     "exception": false,
     "start_time": "2025-06-01T12:04:26.408987",
     "status": "completed"
    },
    "tags": []
   },
   "outputs": [
    {
     "name": "stderr",
     "output_type": "stream",
     "text": [
      "/usr/local/lib/python3.11/dist-packages/seaborn/_oldcore.py:1119: FutureWarning: use_inf_as_na option is deprecated and will be removed in a future version. Convert inf values to NaN before operating instead.\n",
      "  with pd.option_context('mode.use_inf_as_na', True):\n",
      "/usr/local/lib/python3.11/dist-packages/seaborn/_oldcore.py:1119: FutureWarning: use_inf_as_na option is deprecated and will be removed in a future version. Convert inf values to NaN before operating instead.\n",
      "  with pd.option_context('mode.use_inf_as_na', True):\n"
     ]
    },
    {
     "data": {
      "text/plain": [
       "<Axes: xlabel='Age', ylabel='Count'>"
      ]
     },
     "execution_count": 9,
     "metadata": {},
     "output_type": "execute_result"
    },
    {
     "data": {
      "image/png": "[encoded data removed]",
      "text/plain": [
       "<Figure size 640x480 with 1 Axes>"
      ]
     },
     "metadata": {},
     "output_type": "display_data"
    }
   ],
   "source": [
    "survived = train[train['Survived'] == 1]\n",
    "dead = train[train['Survived'] == 0]\n",
    "sns.histplot(x = 'Age', data = survived)\n",
    "sns.histplot(x = 'Age', data = dead)\n",
    "# No correlation with Age"
   ]
  },
  {
   "cell_type": "markdown",
   "id": "bb764e19",
   "metadata": {
    "papermill": {
     "duration": 0.005145,
     "end_time": "2025-06-01T12:04:26.675774",
     "exception": false,
     "start_time": "2025-06-01T12:04:26.670629",
     "status": "completed"
    },
    "tags": []
   },
   "source": [
    "# Encoding Categorical Variables"
   ]
  },
  {
   "cell_type": "code",
   "execution_count": 10,
   "id": "78b64ea2",
   "metadata": {
    "execution": {
     "iopub.execute_input": "2025-06-01T12:04:26.687056Z",
     "iopub.status.busy": "2025-06-01T12:04:26.686760Z",
     "iopub.status.idle": "2025-06-01T12:04:26.848628Z",
     "shell.execute_reply": "2025-06-01T12:04:26.847825Z"
    },
    "papermill": {
     "duration": 0.169428,
     "end_time": "2025-06-01T12:04:26.850306",
     "exception": false,
     "start_time": "2025-06-01T12:04:26.680878",
     "status": "completed"
    },
    "tags": []
   },
   "outputs": [],
   "source": [
    "from sklearn.preprocessing import LabelEncoder as LE\n",
    "encoder = LE()\n",
    "train['Sex_encoded'] = encoder.fit_transform(X = train['Sex'])\n",
    "test['Sex_encoded'] = encoder.transform(X = test['Sex'])"
   ]
  },
  {
   "cell_type": "code",
   "execution_count": 11,
   "id": "63b938f9",
   "metadata": {
    "execution": {
     "iopub.execute_input": "2025-06-01T12:04:26.862160Z",
     "iopub.status.busy": "2025-06-01T12:04:26.861841Z",
     "iopub.status.idle": "2025-06-01T12:04:27.128347Z",
     "shell.execute_reply": "2025-06-01T12:04:27.127507Z"
    },
    "papermill": {
     "duration": 0.274584,
     "end_time": "2025-06-01T12:04:27.130326",
     "exception": false,
     "start_time": "2025-06-01T12:04:26.855742",
     "status": "completed"
    },
    "tags": []
   },
   "outputs": [
    {
     "data": {
      "text/html": [
       "<style>#sk-container-id-1 {color: black;background-color: white;}#sk-container-id-1 pre{padding: 0;}#sk-container-id-1 div.sk-toggleable {background-color: white;}#sk-container-id-1 label.sk-toggleable__label {cursor: pointer;display: block;width: 100%;margin-bottom: 0;padding: 0.3em;box-sizing: border-box;text-align: center;}#sk-container-id-1 label.sk-toggleable__label-arrow:before {content: \"▸\";float: left;margin-right: 0.25em;color: #696969;}#sk-container-id-1 label.sk-toggleable__label-arrow:hover:before {color: black;}#sk-container-id-1 div.sk-estimator:hover label.sk-toggleable__label-arrow:before {color: black;}#sk-container-id-1 div.sk-toggleable__content {max-height: 0;max-width: 0;overflow: hidden;text-align: left;background-color: #f0f8ff;}#sk-container-id-1 div.sk-toggleable__content pre {margin: 0.2em;color: black;border-radius: 0.25em;background-color: #f0f8ff;}#sk-container-id-1 input.sk-toggleable__control:checked~div.sk-toggleable__content {max-height: 200px;max-width: 100%;overflow: auto;}#sk-container-id-1 input.sk-toggleable__control:checked~label.sk-toggleable__label-arrow:before {content: \"▾\";}#sk-container-id-1 div.sk-estimator input.sk-toggleable__control:checked~label.sk-toggleable__label {background-color: #d4ebff;}#sk-container-id-1 div.sk-label input.sk-toggleable__control:checked~label.sk-toggleable__label {background-color: #d4ebff;}#sk-container-id-1 input.sk-hidden--visually {border: 0;clip: rect(1px 1px 1px 1px);clip: rect(1px, 1px, 1px, 1px);height: 1px;margin: -1px;overflow: hidden;padding: 0;position: absolute;width: 1px;}#sk-container-id-1 div.sk-estimator {font-family: monospace;background-color: #f0f8ff;border: 1px dotted black;border-radius: 0.25em;box-sizing: border-box;margin-bottom: 0.5em;}#sk-container-id-1 div.sk-estimator:hover {background-color: #d4ebff;}#sk-container-id-1 div.sk-parallel-item::after {content: \"\";width: 100%;border-bottom: 1px solid gray;flex-grow: 1;}#sk-container-id-1 div.sk-label:hover label.sk-toggleable__label {background-color: #d4ebff;}#sk-container-id-1 div.sk-serial::before {content: \"\";position: absolute;border-left: 1px solid gray;box-sizing: border-box;top: 0;bottom: 0;left: 50%;z-index: 0;}#sk-container-id-1 div.sk-serial {display: flex;flex-direction: column;align-items: center;background-color: white;padding-right: 0.2em;padding-left: 0.2em;position: relative;}#sk-container-id-1 div.sk-item {position: relative;z-index: 1;}#sk-container-id-1 div.sk-parallel {display: flex;align-items: stretch;justify-content: center;background-color: white;position: relative;}#sk-container-id-1 div.sk-item::before, #sk-container-id-1 div.sk-parallel-item::before {content: \"\";position: absolute;border-left: 1px solid gray;box-sizing: border-box;top: 0;bottom: 0;left: 50%;z-index: -1;}#sk-container-id-1 div.sk-parallel-item {display: flex;flex-direction: column;z-index: 1;position: relative;background-color: white;}#sk-container-id-1 div.sk-parallel-item:first-child::after {align-self: flex-end;width: 50%;}#sk-container-id-1 div.sk-parallel-item:last-child::after {align-self: flex-start;width: 50%;}#sk-container-id-1 div.sk-parallel-item:only-child::after {width: 0;}#sk-container-id-1 div.sk-dashed-wrapped {border: 1px dashed gray;margin: 0 0.4em 0.5em 0.4em;box-sizing: border-box;padding-bottom: 0.4em;background-color: white;}#sk-container-id-1 div.sk-label label {font-family: monospace;font-weight: bold;display: inline-block;line-height: 1.2em;}#sk-container-id-1 div.sk-label-container {text-align: center;}#sk-container-id-1 div.sk-container {/* jupyter's `normalize.less` sets `[hidden] { display: none; }` but bootstrap.min.css set `[hidden] { display: none !important; }` so we also need the `!important` here to be able to override the default hidden behavior on the sphinx rendered scikit-learn.org. See: https://github.com/scikit-learn/scikit-learn/issues/21755 */display: inline-block !important;position: relative;}#sk-container-id-1 div.sk-text-repr-fallback {display: none;}</style><div id=\"sk-container-id-1\" class=\"sk-top-container\"><div class=\"sk-text-repr-fallback\"><pre>LogisticRegression()</pre><b>In a Jupyter environment, please rerun this cell to show the HTML representation or trust the notebook. <br />On GitHub, the HTML representation is unable to render, please try loading this page with nbviewer.org.</b></div><div class=\"sk-container\" hidden><div class=\"sk-item\"><div class=\"sk-estimator sk-toggleable\"><input class=\"sk-toggleable__control sk-hidden--visually\" id=\"sk-estimator-id-1\" type=\"checkbox\" checked><label for=\"sk-estimator-id-1\" class=\"sk-toggleable__label sk-toggleable__label-arrow\">LogisticRegression</label><div class=\"sk-toggleable__content\"><pre>LogisticRegression()</pre></div></div></div></div></div>"
      ],
      "text/plain": [
       "LogisticRegression()"
      ]
     },
     "execution_count": 11,
     "metadata": {},
     "output_type": "execute_result"
    }
   ],
   "source": [
    "from sklearn.linear_model import LogisticRegression as LR\n",
    "linear_model = LR()\n",
    "features = ['Sex_encoded', 'Parch', 'SibSp', 'Pclass']\n",
    "linear_model.fit(X = train[features], y = train['Survived'])\n"
   ]
  },
  {
   "cell_type": "code",
   "execution_count": 12,
   "id": "6dd3aaa0",
   "metadata": {
    "execution": {
     "iopub.execute_input": "2025-06-01T12:04:27.151744Z",
     "iopub.status.busy": "2025-06-01T12:04:27.151396Z",
     "iopub.status.idle": "2025-06-01T12:04:27.159701Z",
     "shell.execute_reply": "2025-06-01T12:04:27.158883Z"
    },
    "papermill": {
     "duration": 0.02161,
     "end_time": "2025-06-01T12:04:27.161766",
     "exception": false,
     "start_time": "2025-06-01T12:04:27.140156",
     "status": "completed"
    },
    "tags": []
   },
   "outputs": [],
   "source": [
    "y_pred = linear_model.predict(test[features])"
   ]
  },
  {
   "cell_type": "code",
   "execution_count": 13,
   "id": "972307fb",
   "metadata": {
    "execution": {
     "iopub.execute_input": "2025-06-01T12:04:27.184266Z",
     "iopub.status.busy": "2025-06-01T12:04:27.182526Z",
     "iopub.status.idle": "2025-06-01T12:04:27.189953Z",
     "shell.execute_reply": "2025-06-01T12:04:27.189178Z"
    },
    "papermill": {
     "duration": 0.019901,
     "end_time": "2025-06-01T12:04:27.191692",
     "exception": false,
     "start_time": "2025-06-01T12:04:27.171791",
     "status": "completed"
    },
    "tags": []
   },
   "outputs": [],
   "source": [
    "y_pred = pd.DataFrame(y_pred, columns = ['Survived'])\n",
    "y_pred['PassengerId'] = test['PassengerId']"
   ]
  },
  {
   "cell_type": "code",
   "execution_count": 14,
   "id": "fc6509b8",
   "metadata": {
    "execution": {
     "iopub.execute_input": "2025-06-01T12:04:27.213132Z",
     "iopub.status.busy": "2025-06-01T12:04:27.212727Z",
     "iopub.status.idle": "2025-06-01T12:04:27.224483Z",
     "shell.execute_reply": "2025-06-01T12:04:27.223652Z"
    },
    "papermill": {
     "duration": 0.024285,
     "end_time": "2025-06-01T12:04:27.226064",
     "exception": false,
     "start_time": "2025-06-01T12:04:27.201779",
     "status": "completed"
    },
    "tags": []
   },
   "outputs": [],
   "source": [
    "y_pred.to_csv('submission.csv', index = False)"
   ]
  }
 ],
 "metadata": {
  "kaggle": {
   "accelerator": "none",
   "dataSources": [
    {
     "databundleVersionId": 26502,
     "sourceId": 3136,
     "sourceType": "competition"
    }
   ],
   "dockerImageVersionId": 31040,
   "isGpuEnabled": false,
   "isInternetEnabled": false,
   "language": "python",
   "sourceType": "notebook"
  },
  "kernelspec": {
   "display_name": "Python 3",
   "language": "python",
   "name": "python3"
  },
  "language_info": {
   "codemirror_mode": {
    "name": "ipython",
    "version": 3
   },
   "file_extension": ".py",
   "mimetype": "text/x-python",
   "name": "python",
   "nbconvert_exporter": "python",
   "pygments_lexer": "ipython3",
   "version": "3.11.11"
  },
  "papermill": {
   "default_parameters": {},
   "duration": 10.332143,
   "end_time": "2025-06-01T12:04:27.850585",
   "environment_variables": {},
   "exception": null,
   "input_path": "__notebook__.ipynb",
   "output_path": "__notebook__.ipynb",
   "parameters": {},
   "start_time": "2025-06-01T12:04:17.518442",
   "version": "2.6.0"
  }
 },
 "nbformat": 4,
 "nbformat_minor": 5
}
